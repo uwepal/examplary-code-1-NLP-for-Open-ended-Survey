{
  "cells": [
    {
      "cell_type": "markdown",
      "metadata": {
        "id": "QQT9pH5S_NcG"
      },
      "source": [
        "### Load Modules and Data"
      ]
    },
    {
      "cell_type": "code",
      "execution_count": null,
      "metadata": {
        "id": "-kQXeBGB_NcL"
      },
      "outputs": [],
      "source": [
        "import pandas as pd\n",
        "import pickle\n",
        "import os\n",
        "import numpy as np\n",
        "import multiprocessing\n",
        "import tmtoolkit\n",
        "\n",
        "from sklearn.decomposition import LatentDirichletAllocation as LDA\n",
        "\n",
        "import pyLDAvis\n",
        "import pyLDAvis.sklearn\n",
        "pyLDAvis.enable_notebook()\n",
        "\n",
        "import matplotlib.pyplot as plt"
      ]
    },
    {
      "cell_type": "code",
      "execution_count": null,
      "metadata": {
        "id": "PWOdhQuV_NcO"
      },
      "outputs": [],
      "source": [
        "rebuildModels = True\n",
        "saveModels = True\n",
        "buildViz = True\n",
        "saveOutputs = True"
      ]
    },
    {
      "cell_type": "code",
      "execution_count": null,
      "metadata": {
        "id": "Wtex0xcz_NcP"
      },
      "outputs": [],
      "source": [
        "cores = multiprocessing.cpu_count()"
      ]
    },
    {
      "cell_type": "code",
      "execution_count": null,
      "metadata": {
        "id": "0QiVmOBM_NcP",
        "outputId": "d24fe079-e765-4d58-b26a-3e7110980369"
      },
      "outputs": [
        {
          "data": {
            "text/plain": [
              "['all_improve_learning_mat.pkl',\n",
              " 'all_tech_challenges_mat.pkl',\n",
              " 'family_improve_learning_mat.pkl',\n",
              " 'family_tech_challenges_mat.pkl',\n",
              " 'staff_improve_learning_mat.pkl',\n",
              " 'staff_tech_challenges_mat.pkl',\n",
              " 'student_improve_learning_mat.pkl',\n",
              " 'student_tech_challenges_mat.pkl']"
            ]
          },
          "execution_count": 4,
          "metadata": {},
          "output_type": "execute_result"
        }
      ],
      "source": [
        "filePath = '../../data/processed/fromPython/' #path to load data files\n",
        "files = os.listdir(filePath)\n",
        "files = [x for x in files if '_mat.pkl' in x]\n",
        "files = [x for x in files if '~' not in x] #in case files are open (windows)\n",
        "files"
      ]
    },
    {
      "cell_type": "code",
      "execution_count": null,
      "metadata": {
        "id": "sseiddYE_NcQ"
      },
      "outputs": [],
      "source": [
        "matDict = {} #build directory \n",
        "for each in files:\n",
        "    with open(filePath + each, 'rb') as f:\n",
        "        matDict[each.split('.')[0]] = pickle.load(f)"
      ]
    },
    {
      "cell_type": "code",
      "execution_count": null,
      "metadata": {
        "id": "r49NZCO-_NcR"
      },
      "outputs": [],
      "source": [
        "improveLearningAll = matDict['all_improve_learning_mat']\n",
        "techChallengesAll = matDict['all_tech_challenges_mat']"
      ]
    },
    {
      "cell_type": "code",
      "execution_count": null,
      "metadata": {
        "id": "86dTPpDb_NcS"
      },
      "outputs": [],
      "source": [
        "with open(filePath + 'all_tech_challenges_vectorizer.pkl', 'rb') as f:\n",
        "    techChallengesVec = pickle.load(f)\n",
        "    \n",
        "with open(filePath + 'all_improve_learning_vectorizer.pkl', 'rb') as f:\n",
        "    improveLearningVec = pickle.load(f)"
      ]
    },
    {
      "cell_type": "code",
      "execution_count": null,
      "metadata": {
        "id": "S0B9TyZi_NcS",
        "outputId": "d61b399b-efcf-4f5c-9c6b-1863a8b60322"
      },
      "outputs": [
        {
          "data": {
            "text/plain": [
              "(7527, 1206)"
            ]
          },
          "execution_count": 8,
          "metadata": {},
          "output_type": "execute_result"
        }
      ],
      "source": [
        "techChallengesAll.shape"
      ]
    },
    {
      "cell_type": "code",
      "execution_count": null,
      "metadata": {
        "id": "9-Wwmb9Z_NcT",
        "outputId": "ec274a6f-d857-4e37-a1ff-d2d67ae86f63"
      },
      "outputs": [
        {
          "data": {
            "text/plain": [
              "(8967, 1840)"
            ]
          },
          "execution_count": 9,
          "metadata": {},
          "output_type": "execute_result"
        }
      ],
      "source": [
        "improveLearningAll.shape"
      ]
    },
    {
      "cell_type": "markdown",
      "metadata": {
        "id": "cpk0Ie5j_NcT"
      },
      "source": [
        "### Analyzing Q1 Technology Challenges During Remote Learning\n",
        "\n",
        "\n",
        "\n"
      ]
    },
    {
      "cell_type": "code",
      "execution_count": null,
      "metadata": {
        "id": "dWOcomtb_NcU"
      },
      "outputs": [],
      "source": [
        "topics = 8  #build a model with 8 topics for example\n",
        "maxIter = 1000"
      ]
    },
    {
      "cell_type": "code",
      "execution_count": null,
      "metadata": {
        "id": "4n7TKImS_NcU"
      },
      "outputs": [],
      "source": [
        "if rebuildModels:\n",
        "    ldaTech = LDA(n_jobs = cores - 1, n_components = topics, random_state = 11, max_iter = maxIter)\n",
        "    ldaTech.fit(techChallengesAll)\n",
        "else:\n",
        "    with open('../../data/models/fromPython/all_tech_challenges_lda_model.pkl', 'rb') as f:\n",
        "        ldaTech = pickle.load(f)"
      ]
    },
    {
      "cell_type": "code",
      "execution_count": null,
      "metadata": {
        "id": "NboUnIWC_NcV"
      },
      "outputs": [],
      "source": [
        "if saveModels:\n",
        "    with open('../../data/models/fromPython/all_tech_challenges_lda_model.pkl', 'wb') as f:\n",
        "        pickle.dump(ldaTech, f)"
      ]
    },
    {
      "cell_type": "code",
      "execution_count": null,
      "metadata": {
        "id": "qH87KA2I_NcV"
      },
      "outputs": [],
      "source": [
        "wordWeightsTech = pd.DataFrame(ldaTech.components_, columns = techChallengesVec.get_feature_names()).transpose()"
      ]
    },
    {
      "cell_type": "code",
      "execution_count": null,
      "metadata": {
        "id": "X8BoblQ3_NcW"
      },
      "outputs": [],
      "source": [
        "wordWeightsTechNormed = wordWeightsTech.divide(wordWeightsTech.sum(axis = 1), axis = 0)"
      ]
    },
    {
      "cell_type": "code",
      "execution_count": null,
      "metadata": {
        "id": "oR-3o7wc_NcW"
      },
      "outputs": [],
      "source": [
        "for each in range(wordWeightsTech.shape[1]):\n",
        "    current = wordWeightsTech[each]\n",
        "    current = current.sort_values(ascending = False)\n",
        "    current = current.index[:10]\n",
        "    print(current)\n",
        "#print the top 10 most frequent words of each topic: \n",
        "Index(['dont', 'ani', 'problem', 'use', 'know', 'challeng', 'like', 'thing',\n",
        "       'note', 'power'],\n",
        "      dtype='object')\n",
        "Index(['meet', 'im', 'team', 'sometim', 'internet', 'kick', 'connect', 'class',\n",
        "       'let', 'teacher'],\n",
        "      dtype='object')\n",
        "Index(['time', 'screen', 'class', 'challeng', 'day', 'dure', 'hard', 'kid',\n",
        "       'learn', 'mani'],\n",
        "      dtype='object')\n",
        "Index(['comput', 'laptop', 'school', 'slow', 'work', 'use', 'wifi', 'sometim',\n",
        "       'veri', 'restart'],\n",
        "      dtype='object')\n",
        "Index(['ipad', 'issu', 'work', 'hi', 'video', 'youtub', 'use', 'seesaw', 'sp',\n",
        "       'distract'],\n",
        "      dtype='object')\n",
        "Index(['student', 'need', 'use', 'learn', 'tech', 'teacher', 'school',\n",
        "       'support', 'help', 'thi'],\n",
        "      dtype='object')\n",
        "Index(['team', 'work', 'chat', 'microsoft', 'use', 'zoom', 'sometim', 'camera',\n",
        "       'screen', 'room'],\n",
        "      dtype='object')\n",
        "Index(['teacher', 'assign', 'schoolog', 'work', 'class', 'ha', 'link', 'time',\n",
        "       'differ', 'submit'],\n",
        "      dtype='object')"
      ]
    },
    {
      "cell_type": "code",
      "source": [
        "for each in range(wordWeightsTechNormed.shape[1]):\n",
        "    current = wordWeightsTechNormed[each]\n",
        "    current = current.sort_values(ascending = False)\n",
        "    current = current.index[:10]\n",
        "    print(current)\n",
        "Index(['dont', 'ani', 'power', 'stuff', 'nope', 'outag', 'test', 'touch', 'la',\n",
        "       'attent'],\n",
        "      dtype='object')\n",
        "Index(['meet', 'im', 'kick', 'wait', 'join', 'drop', 'echo', 'lobbi',\n",
        "       'occasion', 'boot'],\n",
        "      dtype='object')\n",
        "Index(['small', 'type', 'young', 'file', 'eye', 'relat', 'impact', 'adult',\n",
        "       'japanes', 'listen'],\n",
        "      dtype='object')\n",
        "Index(['comput', 'slow', 'wifi', 'laggi', 'batteri', 'shut', 'somtim', 'swap',\n",
        "       'charger', 'jack'],\n",
        "      dtype='object')\n",
        "Index(['ipad', 'youtub', 'mic', 'block', 'upload', 'password', 'print',\n",
        "       'tablet', 'account', 'weve'],\n",
        "      dtype='object')\n",
        "Index(['support', 'famili', 'educ', 'staff', 'train', 'best', 'actual',\n",
        "       'appropri', 'assist', 'themselv'],\n",
        "      dtype='object')\n",
        "Index(['chat', 'microsoft', 'zoom', 'suck', 'whiteboard', 'outlook', 'green',\n",
        "       'black', 'version', 'featur'],\n",
        "      dtype='object')\n",
        "Index(['assign', 'submit', 'complet', 'send', 'post', 'schedul', 'sourc',\n",
        "       'mark', 'calendar', 'window'],\n",
        "      dtype='object')"
      ],
      "metadata": {
        "id": "520usInDIHlX"
      },
      "execution_count": null,
      "outputs": []
    },
    {
      "cell_type": "code",
      "execution_count": null,
      "metadata": {
        "id": "4O4VccTr_NcX"
      },
      "outputs": [],
      "source": [
        "if buildViz:\n",
        "    viz = pyLDAvis.sklearn.prepare(ldaTech, techChallengesAll, techChallengesVec)\n",
        "    pyLDAvis.save_html(viz, '../../data/models/fromPython/all_tech_challenges_lda_viz.html')\n",
        "    #to build a visualization of how each survey response is located onto each topic."
      ]
    },
    {
      "cell_type": "code",
      "execution_count": null,
      "metadata": {
        "id": "s58etFsC_NcX"
      },
      "outputs": [],
      "source": [
        "techChallengesAllLda = ldaTech.transform(techChallengesAll)\n",
        "techChallengesStudentsLda = ldaTech.transform(matDict['student_tech_challenges_mat'])\n",
        "techChallengesStaffLda = ldaTech.transform(matDict['staff_tech_challenges_mat'])\n",
        "techChallengesFamilyLda = ldaTech.transform(matDict['family_tech_challenges_mat'])"
      ]
    },
    {
      "cell_type": "code",
      "execution_count": null,
      "metadata": {
        "id": "zTvSmS1y_NcX",
        "outputId": "f17d727d-69a8-47d7-978e-f932c661bf55"
      },
      "outputs": [
        {
          "data": {
            "text/plain": [
              "LatentDirichletAllocation(batch_size=128, doc_topic_prior=None,\n",
              "                          evaluate_every=-1, learning_decay=0.7,\n",
              "                          learning_method='batch', learning_offset=10.0,\n",
              "                          max_doc_update_iter=100, max_iter=1000,\n",
              "                          mean_change_tol=0.001, n_components=8, n_jobs=15,\n",
              "                          perp_tol=0.1, random_state=11, topic_word_prior=None,\n",
              "                          total_samples=1000000.0, verbose=0)"
            ]
          },
          "execution_count": 19,
          "metadata": {},
          "output_type": "execute_result"
        }
      ],
      "source": [
        "ldaTech"
      ]
    },
    {
      "cell_type": "code",
      "execution_count": null,
      "metadata": {
        "id": "R5mBH_ZR_NcY"
      },
      "outputs": [],
      "source": [
        "if saveOutputs:\n",
        "    with open('../../data/models/fromPython/all_tech_challenges_topics.pkl', 'wb') as f:\n",
        "        pickle.dump(techChallengesAllLda, f)\n",
        "    \n",
        "    with open('../../data/models/fromPython/student_tech_challenges_topics.pkl', 'wb') as f:\n",
        "        pickle.dump(techChallengesStudentsLda, f)\n",
        "        \n",
        "    with open('../../data/models/fromPython/staff_tech_challenges_topics.pkl', 'wb') as f:\n",
        "        pickle.dump(techChallengesStaffLda, f)\n",
        "        \n",
        "    with open('../../data/models/fromPython/family_tech_challenges_topics.pkl', 'wb') as f:\n",
        "        pickle.dump(techChallengesFamilyLda, f)"
      ]
    },
    {
      "cell_type": "markdown",
      "metadata": {
        "id": "cOyYt7RL_NcY"
      },
      "source": [
        "### Analyzing Q2 Improve Learning\n",
        "\n",
        "-Conduct the same topic modeling for a survey question #2 about how family, staff and students suggested ways to improve remote learning experiences\n",
        "\n"
      ]
    },
    {
      "cell_type": "code",
      "execution_count": null,
      "metadata": {
        "id": "JgP63I3T_NcY"
      },
      "outputs": [],
      "source": [
        "topics = 8"
      ]
    },
    {
      "cell_type": "code",
      "execution_count": null,
      "metadata": {
        "id": "fkFbtUW7_NcY"
      },
      "outputs": [],
      "source": [
        "if rebuildModels:\n",
        "    ldaImprove = LDA(n_jobs = cores - 1, n_components = topics, random_state = 5, max_iter = maxIter)\n",
        "    ldaImprove.fit(improveLearningAll)\n",
        "else:\n",
        "    with open('../../data/models/fromPython/all_improve_learning_lda_model.pkl', 'rb') as f:\n",
        "        ldaTech = pickle.load(f)"
      ]
    },
    {
      "cell_type": "code",
      "execution_count": null,
      "metadata": {
        "id": "RkwbTlbu_NcZ"
      },
      "outputs": [],
      "source": [
        "if saveModels:\n",
        "    with open('../../data/models/fromPython/all_improve_learning_lda_model.pkl', 'wb') as f:\n",
        "        pickle.dump(ldaImprove, f)"
      ]
    },
    {
      "cell_type": "code",
      "execution_count": null,
      "metadata": {
        "id": "e2hZ3dyS_NcZ"
      },
      "outputs": [],
      "source": [
        "if buildViz:\n",
        "    viz = pyLDAvis.sklearn.prepare(ldaImprove, improveLearningAll, improveLearningVec)\n",
        "    pyLDAvis.save_html(viz, '../../data/models/fromPython/all_improve_learning_lda_viz.html')"
      ]
    },
    {
      "cell_type": "code",
      "execution_count": null,
      "metadata": {
        "id": "nlxO71z9_NcZ"
      },
      "outputs": [],
      "source": [
        "improveLearningAllLda = ldaImprove.transform(improveLearningAll)\n",
        "improveLearningStudentsLda = ldaImprove.transform(matDict['student_improve_learning_mat'])\n",
        "improveLearningStaffLda = ldaImprove.transform(matDict['staff_improve_learning_mat'])\n",
        "improveLearningFamilyLda = ldaImprove.transform(matDict['family_improve_learning_mat'])"
      ]
    },
    {
      "cell_type": "code",
      "execution_count": null,
      "metadata": {
        "id": "bGN9qv2m_NcZ"
      },
      "outputs": [],
      "source": [
        "if saveOutputs:\n",
        "    with open('../../data/models/fromPython/all_improve_learning_topics.pkl', 'wb') as f:\n",
        "        pickle.dump(improveLearningAllLda, f)\n",
        "    \n",
        "    with open('../../data/models/fromPython/student_improve_learning_topics.pkl', 'wb') as f:\n",
        "        pickle.dump(improveLearningStudentsLda, f)\n",
        "        \n",
        "    with open('../../data/models/fromPython/staff_improve_learning_topics.pkl', 'wb') as f:\n",
        "        pickle.dump(improveLearningStaffLda, f)\n",
        "        \n",
        "    with open('../../data/models/fromPython/family_improve_learning_topics.pkl', 'wb') as f:\n",
        "        pickle.dump(improveLearningFamilyLda, f)"
      ]
    }
  ],
  "metadata": {
    "kernelspec": {
      "display_name": "Python 3",
      "language": "python",
      "name": "python3"
    },
    "language_info": {
      "codemirror_mode": {
        "name": "ipython",
        "version": 3
      },
      "file_extension": ".py",
      "mimetype": "text/x-python",
      "name": "python",
      "nbconvert_exporter": "python",
      "pygments_lexer": "ipython3",
      "version": "3.8.2"
    },
    "colab": {
      "provenance": []
    }
  },
  "nbformat": 4,
  "nbformat_minor": 0
}
